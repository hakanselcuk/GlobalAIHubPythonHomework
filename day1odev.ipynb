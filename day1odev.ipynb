{
 "cells": [
  {
   "cell_type": "code",
   "execution_count": null,
   "metadata": {
    "scrolled": false
   },
   "outputs": [],
   "source": [
    "age = int(input(\"Enter your age: \"))\n",
    "I_can_sell = age >=18\n",
    "print(\"It is forbidden to buy this product under 18!\")\n",
    "product_type = str(input(\"Enter product name: \"))    \n",
    "brand = input(\"Enter brand: \")\n",
    "price = float(input(\"Enter price: \"))\n",
    "product_piece = int(input(\"Enter product_piece: \"))\n",
    "print(\"type of I_can_sell value: {}\".format(type(I_can_sell)))\n",
    "print(\"type of product_type value: {}\".format(type(product_type)))\n",
    "print(\"type of brand value: {}\".format(type(brand)))         \n",
    "print(\"type of price value: {}\".format(type(price)))\n",
    "print(\"type of product_piece value: {}\".format(type(product_piece)))\n",
    "\n"
   ]
  }
 ],
 "metadata": {
  "kernelspec": {
   "display_name": "Python 3",
   "language": "python",
   "name": "python3"
  },
  "language_info": {
   "codemirror_mode": {
    "name": "ipython",
    "version": 3
   },
   "file_extension": ".py",
   "mimetype": "text/x-python",
   "name": "python",
   "nbconvert_exporter": "python",
   "pygments_lexer": "ipython3",
   "version": "3.7.6"
  }
 },
 "nbformat": 4,
 "nbformat_minor": 4
}
